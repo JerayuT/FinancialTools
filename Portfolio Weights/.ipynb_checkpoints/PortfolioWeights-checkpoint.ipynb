{
 "cells": [
  {
   "cell_type": "code",
   "execution_count": 6,
   "id": "b89b7ac3-f5b3-44a3-86b5-2bf41300d0bb",
   "metadata": {
    "tags": []
   },
   "outputs": [],
   "source": [
    "#pip install cvxpy"
   ]
  },
  {
   "cell_type": "code",
   "execution_count": 1,
   "id": "ec00cb54-1c34-4a6d-b29f-261c5e51626d",
   "metadata": {
    "tags": []
   },
   "outputs": [],
   "source": [
    "# import standard libraries\n",
    "import pandas as pd\n",
    "import numpy as np\n",
    "import datetime as dt\n",
    "\n",
    "# import data scraping tools\n",
    "import yfinance as yf\n",
    "\n",
    "# import statistical tools and finance tools\n",
    "from scipy.stats import norm, t\n",
    "import cvxpy as cp\n",
    "\n",
    "# import graphing tools\n",
    "import plotly.graph_objects as go\n",
    "import plotly.express as px\n",
    "import matplotlib.pyplot as plt\n",
    "import seaborn as sns"
   ]
  },
  {
   "cell_type": "markdown",
   "id": "d03d605b-dc22-4f66-9dc6-41ab6925facf",
   "metadata": {},
   "source": [
    "### Sharpe Ratio"
   ]
  },
  {
   "cell_type": "code",
   "execution_count": null,
   "id": "25885d06-4aa1-46b6-bed1-7fd0801350ea",
   "metadata": {},
   "outputs": [],
   "source": [
    "def find_mean_variance_opt_weights():\n",
    "    num_assets = len(returns.columns)\n",
    "\n",
    "    cov_matrix = returns.cov().values\n",
    "    expected_returns = np.mean(returns, axis=0).values\n",
    "\n",
    "    weights = cp.Variable(num_assets)\n",
    "\n",
    "    objective = cp.Maximize(expected_returns @ weights)\n",
    "\n",
    "    if target_return:\n",
    "        constraint = [cp.quad_form(weights, cov_matrix) <= target_return]\n",
    "    else:\n",
    "        constraint = []\n",
    "\n",
    "    constraint += [cp.sum(weights) == 1]\n",
    "\n",
    "    constraint += [weights >= 0]\n",
    "\n",
    "    problem = cp.Problem(objective, constraint)\n",
    "    problem.solve()\n",
    "\n",
    "    return weights.value"
   ]
  },
  {
   "cell_type": "markdown",
   "id": "ba0ab354-7a48-4d83-bf7b-94b3b23b850d",
   "metadata": {},
   "source": [
    "### Equal Weights"
   ]
  },
  {
   "cell_type": "code",
   "execution_count": null,
   "id": "0c144737-4c8d-44ec-a3b4-e9f95e816d8a",
   "metadata": {},
   "outputs": [],
   "source": [
    "def find_equal_weights(assetList):\n",
    "    return [1 / len(assetList)] * len(assetList)"
   ]
  },
  {
   "cell_type": "markdown",
   "id": "13bd6d77-7eff-4350-94d4-de94b9409ecd",
   "metadata": {},
   "source": [
    "### Minimum Variance"
   ]
  },
  {
   "cell_type": "code",
   "execution_count": null,
   "id": "484d410a-9a34-406f-bee4-0c551685cf2a",
   "metadata": {},
   "outputs": [],
   "source": [
    "def find_minimum_variance_weights(returns_df):\n",
    "    cov_matrix = returns_df.cov()\n",
    "    inv_cov_matrix = np.linalg.inv(cov_matrix)\n",
    "    ones_vector = np.ones(len(returns_df.columns))\n",
    "\n",
    "    numerator = np.dot(inv_cov_matrix, ones_vector)\n",
    "    denominator = np.dot(ones_vector, np.dot(inv_cov_matrix, ones_vector))\n",
    "\n",
    "    return numerator / denominator"
   ]
  },
  {
   "cell_type": "markdown",
   "id": "bc739fff-f812-4896-b633-e7da98b2928f",
   "metadata": {},
   "source": [
    "### Risk Parity"
   ]
  },
  {
   "cell_type": "code",
   "execution_count": null,
   "id": "b79c09fb-180f-4e7b-ab6c-d81825e07151",
   "metadata": {},
   "outputs": [],
   "source": [
    "def find_risk_parity_weights(returns_df):\n",
    "    cov_matrix = returns.cov()\n",
    "    inv_sqrt_diag = np.diag(1 / np.sqrt(np.diag(cov_matrix)))\n",
    "\n",
    "    weights = np.dot(inv_sqrt_diag, np.ones(len(returns.columns)))\n",
    "    weights /= np.sum(weights)\n",
    "\n",
    "    return weights"
   ]
  }
 ],
 "metadata": {
  "kernelspec": {
   "display_name": "Python 3 (ipykernel)",
   "language": "python",
   "name": "python3"
  },
  "language_info": {
   "codemirror_mode": {
    "name": "ipython",
    "version": 3
   },
   "file_extension": ".py",
   "mimetype": "text/x-python",
   "name": "python",
   "nbconvert_exporter": "python",
   "pygments_lexer": "ipython3",
   "version": "3.11.5"
  }
 },
 "nbformat": 4,
 "nbformat_minor": 5
}
